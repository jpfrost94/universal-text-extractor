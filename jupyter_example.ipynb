{
 "cells": [
  {
   "cell_type": "markdown",
   "metadata": {},
   "source": [
    "# Universal Text Extractor - Jupyter Notebook Example\n",
    "\n",
    "This notebook shows how to use the Universal Text Extractor in Jupyter notebooks."
   ]
  },
  {
   "cell_type": "markdown",
   "metadata": {},
   "source": [
    "## 1. Import the Text Extractor"
   ]
  },
  {
   "cell_type": "code",
   "execution_count": null,
   "metadata": {},
   "outputs": [],
   "source": [
    "# Import the text extractor API\n",
    "from text_extractor_api import TextExtractor, extract_text, extract_from_image\n",
    "\n",
    "# Create an extractor instance\n",
    "extractor = TextExtractor()\n",
    "\n",
    "# Check what formats are supported\n",
    "print(\"Supported formats:\")\n",
    "formats = extractor.get_supported_formats()\n",
    "print(f\"Documents: {formats['documents']}\")\n",
    "print(f\"Images: {formats['images']}\")\n",
    "print(f\"OCR Available: {formats['ocr_available']}\")\n",
    "print(f\"OCR Backends: {formats['ocr_backends']}\")"
   ]
  },
  {
   "cell_type": "markdown",
   "metadata": {},
   "source": [
    "## 2. Extract Text from Documents"
   ]
  },
  {
   "cell_type": "code",
   "execution_count": null,
   "metadata": {},
   "outputs": [],
   "source": [
    "# Example: Extract text from a PDF\n",
    "pdf_path = \"your_document.pdf\"  # Replace with your file path\n",
    "\n",
    "try:\n",
    "    result = extractor.extract_from_file(pdf_path)\n",
    "    \n",
    "    if result[\"success\"]:\n",
    "        print(f\"File Type: {result['file_type']}\")\n",
    "        print(f\"OCR Used: {result['ocr_used']}\")\n",
    "        print(f\"Extracted Text ({len(result['text'])} characters):\")\n",
    "        print(\"=\" * 50)\n",
    "        print(result['text'][:500] + \"...\" if len(result['text']) > 500 else result['text'])\n",
    "    else:\n",
    "        print(f\"Error: {result['error']}\")\n",
    "        \n",
    "except Exception as e:\n",
    "    print(f\"Exception: {e}\")"
   ]
  },
  {
   "cell_type": "markdown",
   "metadata": {},
   "source": [
    "## 3. Extract Text from Images (OCR)"
   ]
  },
  {
   "cell_type": "code",
   "execution_count": null,
   "metadata": {},
   "outputs": [],
   "source": [
    "# Example: Extract text from an image\n",
    "image_path = \"your_image.jpg\"  # Replace with your image path\n",
    "\n",
    "try:\n",
    "    result = extractor.extract_from_image(image_path, language=\"eng\")\n",
    "    \n",
    "    if result[\"success\"]:\n",
    "        print(f\"OCR Used: {result['ocr_used']}\")\n",
    "        print(f\"Extracted Text:\")\n",
    "        print(\"=\" * 50)\n",
    "        print(result['text'])\n",
    "    else:\n",
    "        print(f\"Error: {result['error']}\")\n",
    "        \n",
    "except Exception as e:\n",
    "    print(f\"Exception: {e}\")"
   ]
  },
  {
   "cell_type": "markdown",
   "metadata": {},
   "source": [
    "## 4. Quick Functions (Simplified Usage)"
   ]
  },
  {
   "cell_type": "code",
   "execution_count": null,
   "metadata": {},
   "outputs": [],
   "source": [
    "# Quick text extraction (returns just the text)\n",
    "try:\n",
    "    text = extract_text(\"your_document.pdf\")\n",
    "    print(f\"Extracted {len(text)} characters\")\n",
    "    print(text[:200] + \"...\" if len(text) > 200 else text)\n",
    "except Exception as e:\n",
    "    print(f\"Error: {e}\")"
   ]
  },
  {
   "cell_type": "code",
   "execution_count": null,
   "metadata": {},
   "outputs": [],
   "source": [
    "# Quick image OCR\n",
    "try:\n",
    "    text = extract_from_image(\"your_image.jpg\")\n",
    "    print(\"OCR Result:\")\n",
    "    print(text)\n",
    "except Exception as e:\n",
    "    print(f\"Error: {e}\")"
   ]
  },
  {
   "cell_type": "markdown",
   "metadata": {},
   "source": [
    "## 5. Batch Processing"
   ]
  },
  {
   "cell_type": "code",
   "execution_count": null,
   "metadata": {},
   "outputs": [],
   "source": [
    "# Process multiple files at once\n",
    "file_paths = [\n",
    "    \"document1.pdf\",\n",
    "    \"document2.docx\",\n",
    "    \"image1.jpg\"\n",
    "]\n",
    "\n",
    "results = extractor.batch_extract(file_paths)\n",
    "\n",
    "for filename, result in results.items():\n",
    "    print(f\"\\n{filename}:\")\n",
    "    if result[\"success\"]:\n",
    "        print(f\"  Type: {result['file_type']}\")\n",
    "        print(f\"  OCR: {result['ocr_used']}\")\n",
    "        print(f\"  Text length: {len(result['text'])} characters\")\n",
    "        print(f\"  Preview: {result['text'][:100]}...\")\n",
    "    else:\n",
    "        print(f\"  Error: {result['error']}\")"
   ]
  },
  {
   "cell_type": "markdown",
   "metadata": {},
   "source": [
    "## 6. Advanced OCR Options"
   ]
  },
  {
   "cell_type": "code",
   "execution_count": null,
   "metadata": {},
   "outputs": [],
   "source": [
    "# OCR with different languages and handwriting mode\n",
    "image_path = \"handwritten_note.jpg\"\n",
    "\n",
    "# Try different OCR settings\n",
    "settings = [\n",
    "    {\"language\": \"eng\", \"handwriting_mode\": False, \"name\": \"Standard English\"},\n",
    "    {\"language\": \"eng\", \"handwriting_mode\": True, \"name\": \"Handwriting Mode\"},\n",
    "    {\"language\": \"fra\", \"handwriting_mode\": False, \"name\": \"French\"},\n",
    "]\n",
    "\n",
    "for setting in settings:\n",
    "    try:\n",
    "        result = extractor.extract_from_image(\n",
    "            image_path, \n",
    "            language=setting[\"language\"],\n",
    "            handwriting_mode=setting[\"handwriting_mode\"]\n",
    "        )\n",
    "        \n",
    "        print(f\"\\n{setting['name']}:\")\n",
    "        if result[\"success\"]:\n",
    "            print(result['text'][:200] + \"...\" if len(result['text']) > 200 else result['text'])\n",
    "        else:\n",
    "            print(f\"Error: {result['error']}\")\n",
    "            \n",
    "    except Exception as e:\n",
    "        print(f\"Exception with {setting['name']}: {e}\")"
   ]
  }
 ],
 "metadata": {
  "kernelspec": {
   "display_name": "Python 3",
   "language": "python",
   "name": "python3"
  },
  "language_info": {
   "codemirror_mode": {
    "name": "ipython",
    "version": 3
   },
   "file_extension": ".py",
   "mimetype": "text/x-python",
   "name": "python",
   "nbconvert_exporter": "python",
   "pygments_lexer": "ipython3",
   "version": "3.11.0"
  }
 },
 "nbformat": 4,
 "nbformat_minor": 4
}